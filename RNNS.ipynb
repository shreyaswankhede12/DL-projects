{
 "cells": [
  {
   "cell_type": "code",
   "execution_count": 1,
   "metadata": {},
   "outputs": [],
   "source": [
    "import numpy as np\n",
    "import torch\n",
    "import random\n",
    "from sklearn.metrics import mean_squared_error\n",
    "import torch.optim as optim\n",
    "import matplotlib.pyplot as plt\n",
    "from torch.nn import MSELoss"
   ]
  },
  {
   "attachments": {},
   "cell_type": "markdown",
   "metadata": {},
   "source": [
    "Dataset creation"
   ]
  },
  {
   "cell_type": "code",
   "execution_count": 2,
   "metadata": {},
   "outputs": [],
   "source": [
    "no_sample=5000\n",
    "min_size=2\n",
    "max_size=10\n",
    "\n",
    "input=[]\n",
    "y=[]\n",
    "\n",
    "for i in range(no_sample):\n",
    "   var_len=torch.randint(min_size,max_size,(1,))\n",
    "   inp_array=torch.rand(var_len,2)\n",
    "   inp_array[:,1]=0\n",
    "   x=random.sample(range(0,var_len),2)\n",
    "   inp_array[x[0]][1]=1\n",
    "   inp_array[x[1]][1]=1\n",
    "   label=inp_array[x[0]][0]+inp_array[x[1]][0]\n",
    "   y.append(label)\n",
    "   input.append(inp_array)"
   ]
  },
  {
   "attachments": {},
   "cell_type": "markdown",
   "metadata": {},
   "source": [
    "Defining the baseline loss"
   ]
  },
  {
   "cell_type": "code",
   "execution_count": 3,
   "metadata": {},
   "outputs": [],
   "source": [
    "def baseline(Y):\n",
    "    l = 0\n",
    "    for i in Y:\n",
    "        l += (1-i)**2\n",
    "    return l/len(Y)"
   ]
  },
  {
   "cell_type": "code",
   "execution_count": 4,
   "metadata": {},
   "outputs": [],
   "source": [
    "baseline_loss=baseline(y)"
   ]
  },
  {
   "attachments": {},
   "cell_type": "markdown",
   "metadata": {},
   "source": [
    "Elmon "
   ]
  },
  {
   "cell_type": "code",
   "execution_count": 5,
   "metadata": {},
   "outputs": [],
   "source": [
    "\n",
    "bias = torch.rand((3, 1), requires_grad=True)\n",
    "bias_2=torch.rand(1,requires_grad=True)\n",
    "wt_mat_1 = torch.rand((3,3),requires_grad=True)\n",
    "wt_mat_2 = torch.rand((3,2),requires_grad=True)\n",
    "wt_mat_3 = torch.rand((1,3),requires_grad=True)\n",
    "optimizer=optim.SGD([wt_mat_1,wt_mat_2,wt_mat_3,bias_2,bias],lr=0.01)\n",
    "loss=[]\n",
    "\n",
    "\n",
    "def Elmon(inp):\n",
    "  for k in range(10):\n",
    "    j=0\n",
    "    curr_loss = 0\n",
    "    for arr in inp:\n",
    "      memory=torch.tensor([0,0,0],dtype=torch.float32)\n",
    "      length=len(arr)\n",
    "      for i in range(length):\n",
    "          inp_mat=torch.tensor([arr[i][0],arr[i][1]])\n",
    "\n",
    "          m_out=torch.matmul(memory,wt_mat_1)+torch.matmul(wt_mat_2,inp_mat)+bias.T\n",
    "          memory=torch.sigmoid(m_out)\n",
    "\n",
    "      \n",
    "      m_out_2 = torch.matmul(memory, wt_mat_3.T) + bias_2\n",
    "      error=torch.mean(torch.square(y[j]-m_out_2))\n",
    "      error.backward()\n",
    "      curr_loss+=error\n",
    "      \n",
    "      optimizer.step()\n",
    "      optimizer.zero_grad()\n",
    "\n",
    "      j+=1\n",
    "    print(curr_loss/5000)\n",
    "    loss.append(curr_loss.detach().numpy()/5000)\n"
   ]
  },
  {
   "cell_type": "code",
   "execution_count": 6,
   "metadata": {},
   "outputs": [
    {
     "name": "stdout",
     "output_type": "stream",
     "text": [
      "tensor(0.1787, grad_fn=<DivBackward0>)\n",
      "tensor(0.1714, grad_fn=<DivBackward0>)\n",
      "tensor(0.1671, grad_fn=<DivBackward0>)\n",
      "tensor(0.1610, grad_fn=<DivBackward0>)\n",
      "tensor(0.1573, grad_fn=<DivBackward0>)\n",
      "tensor(0.1550, grad_fn=<DivBackward0>)\n",
      "tensor(0.1528, grad_fn=<DivBackward0>)\n",
      "tensor(0.1505, grad_fn=<DivBackward0>)\n",
      "tensor(0.1480, grad_fn=<DivBackward0>)\n",
      "tensor(0.1448, grad_fn=<DivBackward0>)\n"
     ]
    }
   ],
   "source": [
    "      \n",
    "Elmon(input)\n",
    "#printing the loss after each epoch\n"
   ]
  },
  {
   "attachments": {},
   "cell_type": "markdown",
   "metadata": {},
   "source": [
    "plotting the graph for elmon\n"
   ]
  },
  {
   "cell_type": "markdown",
   "metadata": {},
   "source": []
  },
  {
   "cell_type": "code",
   "execution_count": 7,
   "metadata": {},
   "outputs": [
    {
     "data": {
      "text/plain": [
       "[<matplotlib.lines.Line2D at 0x7f3735ea99c0>]"
      ]
     },
     "execution_count": 7,
     "metadata": {},
     "output_type": "execute_result"
    },
    {
     "data": {
      "image/png": "[encoded data removed]",
      "text/plain": [
       "<Figure size 640x480 with 1 Axes>"
      ]
     },
     "metadata": {},
     "output_type": "display_data"
    }
   ],
   "source": [
    "b_y_1=[baseline_loss for i in range(0,10)]\n",
    "epochs=[i for i in range (1,11)]\n",
    "plt.ylim(min(loss)-0.005,max(loss)+0.005)\n",
    "plt.xlim(1,10)\n",
    "plt.xlabel(\"epochs\")\n",
    "plt.ylabel(\"loss\")\n",
    "plt.plot(epochs,loss,color='blue',label='elmon')\n",
    "plt.plot(epochs,b_y_1,color='red',label='baseline')"
   ]
  },
  {
   "attachments": {},
   "cell_type": "markdown",
   "metadata": {},
   "source": [
    "GRU"
   ]
  },
  {
   "cell_type": "code",
   "execution_count": 8,
   "metadata": {},
   "outputs": [],
   "source": [
    "weights=torch.randn((9,1),requires_grad=True)\n",
    "bias_gru=torch.randn((3,1),requires_grad=True)\n",
    "optimizer=optim.SGD([weights,bias_gru],lr=0.05)\n",
    "loss_gru=[]\n",
    "\n",
    "def GRU(inp):\n",
    "  for i in range(10):\n",
    "    j=0\n",
    "    curr_loss=0\n",
    "    for arr in inp:\n",
    "      memory=0\n",
    "      length=len(arr)\n",
    "      for i in range(length):\n",
    "        m_out_1=memory*weights[0]+arr[i][0]*weights[1]+arr[i][1]*weights[2]+bias_gru[0]\n",
    "        act_out_1=torch.sigmoid(m_out_1)\n",
    "        \n",
    "        m_out_2=memory*weights[3]+arr[i][0]*weights[4]+arr[i][1]*weights[5]+bias_gru[1]\n",
    "        act_out_2=torch.sigmoid(m_out_2)\n",
    "        \n",
    "        m_out_3=memory*act_out_1*weights[6]+arr[i][0]*weights[7]+arr[i][1]*weights[8]+bias_gru[2]\n",
    "        act_out_3=torch.tanh(m_out_3)\n",
    "        \n",
    "        memory=memory*(1-act_out_2)+act_out_2*act_out_3\n",
    "        \n",
    "        \n",
    "      error=MSELoss()(memory,y[j])\n",
    "      curr_loss+=error\n",
    "      error.backward(retain_graph=True)\n",
    "      optimizer.step()\n",
    "      optimizer.zero_grad()\n",
    "      j+=1\n",
    "    print(curr_loss/5000)\n",
    "    loss_gru.append(curr_loss.detach().numpy()/5000)"
   ]
  },
  {
   "cell_type": "code",
   "execution_count": 9,
   "metadata": {},
   "outputs": [
    {
     "name": "stderr",
     "output_type": "stream",
     "text": [
      "/home/shreyas/.local/lib/python3.10/site-packages/torch/nn/modules/loss.py:536: UserWarning: Using a target size (torch.Size([])) that is different to the input size (torch.Size([1])). This will likely lead to incorrect results due to broadcasting. Please ensure they have the same size.\n",
      "  return F.mse_loss(input, target, reduction=self.reduction)\n"
     ]
    },
    {
     "name": "stdout",
     "output_type": "stream",
     "text": [
      "tensor(0.1500, grad_fn=<DivBackward0>)\n",
      "tensor(0.1395, grad_fn=<DivBackward0>)\n",
      "tensor(0.1233, grad_fn=<DivBackward0>)\n",
      "tensor(0.1092, grad_fn=<DivBackward0>)\n",
      "tensor(0.1028, grad_fn=<DivBackward0>)\n",
      "tensor(0.0996, grad_fn=<DivBackward0>)\n",
      "tensor(0.0976, grad_fn=<DivBackward0>)\n",
      "tensor(0.0963, grad_fn=<DivBackward0>)\n",
      "tensor(0.0953, grad_fn=<DivBackward0>)\n",
      "tensor(0.0945, grad_fn=<DivBackward0>)\n"
     ]
    }
   ],
   "source": [
    "GRU(input)\n",
    "#printing the loss after each epoch"
   ]
  },
  {
   "attachments": {},
   "cell_type": "markdown",
   "metadata": {},
   "source": [
    "Graph for GRU"
   ]
  },
  {
   "cell_type": "code",
   "execution_count": 10,
   "metadata": {},
   "outputs": [
    {
     "data": {
      "text/plain": [
       "[<matplotlib.lines.Line2D at 0x7f3735f66530>]"
      ]
     },
     "execution_count": 10,
     "metadata": {},
     "output_type": "execute_result"
    },
    {
     "data": {
      "image/png": "[encoded data removed]",
      "text/plain": [
       "<Figure size 640x480 with 1 Axes>"
      ]
     },
     "metadata": {},
     "output_type": "display_data"
    }
   ],
   "source": [
    "b_y_2=[baseline_loss for i in range(0,10)]\n",
    "plt.ylim(min(loss_gru)-0.005,0.18)\n",
    "plt.xlim(1,10)\n",
    "plt.xlabel(\"epochs\")\n",
    "plt.ylabel(\"loss\")\n",
    "plt.plot(epochs,loss_gru,color='blue',label='gru')\n",
    "plt.plot(epochs,b_y_2,color='red',label='baseline')"
   ]
  },
  {
   "attachments": {},
   "cell_type": "markdown",
   "metadata": {},
   "source": [
    "LSTM "
   ]
  },
  {
   "cell_type": "code",
   "execution_count": 11,
   "metadata": {},
   "outputs": [
    {
     "name": "stderr",
     "output_type": "stream",
     "text": [
      "/tmp/ipykernel_3891/1994707339.py:23: UserWarning: The use of `x.T` on tensors of dimension other than 2 to reverse their shape is deprecated and it will throw an error in a future release. Consider `x.mT` to transpose batches of matrices or `x.permute(*torch.arange(x.ndim - 1, -1, -1))` to reverse the dimensions of a tensor. (Triggered internally at ../aten/src/ATen/native/TensorShape.cpp:3277.)\n",
      "  m_out_1=torch.matmul(vect_1.T,vect_2)\n"
     ]
    },
    {
     "name": "stdout",
     "output_type": "stream",
     "text": [
      "tensor(0.1746, grad_fn=<DivBackward0>)\n",
      "tensor(0.1628, grad_fn=<DivBackward0>)\n",
      "tensor(0.1584, grad_fn=<DivBackward0>)\n",
      "tensor(0.1560, grad_fn=<DivBackward0>)\n",
      "tensor(0.1547, grad_fn=<DivBackward0>)\n",
      "tensor(0.1538, grad_fn=<DivBackward0>)\n",
      "tensor(0.1532, grad_fn=<DivBackward0>)\n",
      "tensor(0.1527, grad_fn=<DivBackward0>)\n",
      "tensor(0.1524, grad_fn=<DivBackward0>)\n",
      "tensor(0.1522, grad_fn=<DivBackward0>)\n"
     ]
    }
   ],
   "source": [
    "vect_2=torch.randn((4,1),requires_grad=True)\n",
    "vect_3=torch.randn((4,1),requires_grad=True)\n",
    "vect_4=torch.randn((4,1),requires_grad=True)\n",
    "vect_5=torch.randn((4,1),requires_grad=True)\n",
    "optimizer=optim.SGD([vect_2,vect_3,vect_4,vect_5],lr=0.05)\n",
    "loss_lstm=[]\n",
    "torch.autograd.set_detect_anomaly(True)\n",
    "\n",
    "\n",
    "def LSTM(inp):\n",
    "  for i in range(10):\n",
    "    j=0\n",
    "    curr_loss=0\n",
    "    \n",
    "    for arr in inp:\n",
    "      short_term_mem=0\n",
    "      long_term_mem=0\n",
    "      length=len(arr)\n",
    "      \n",
    "      for i in range(length):\n",
    "        \n",
    "        vect_1=torch.tensor([short_term_mem,arr[i][0],arr[i][1],1])\n",
    "        m_out_1=torch.matmul(vect_1.T,vect_2)\n",
    "        act_out_1=torch.sigmoid(m_out_1)\n",
    "        forget_out=long_term_mem*act_out_1\n",
    "        \n",
    "        \n",
    "        m_out_2=torch.matmul(vect_1.T,vect_3)\n",
    "        act_out_2=torch.sigmoid(m_out_2)\n",
    "        \n",
    "        \n",
    "        m_out_3=torch.matmul(vect_1.T,vect_4)\n",
    "        act_out_3=torch.tanh(m_out_3)\n",
    "        x_out=act_out_2*act_out_3\n",
    "        long_term_mem=forget_out+x_out\n",
    "        \n",
    "        \n",
    "        m_out_4=torch.matmul(vect_1.T,vect_5)\n",
    "        act_out_4=torch.sigmoid(m_out_4)\n",
    "        act_out_5=torch.tanh(long_term_mem)\n",
    "        x_out_2=act_out_4*act_out_5\n",
    "        short_term_mem=x_out_2\n",
    "\n",
    "      error=torch.mean(torch.square(y[j]-short_term_mem))\n",
    "      error.backward(retain_graph=True)\n",
    "      curr_loss+=error\n",
    "      optimizer.step()\n",
    "      optimizer.zero_grad()\n",
    "      j+=1     \n",
    "    print(curr_loss/5000)\n",
    "    loss_lstm.append(curr_loss.detach().numpy()/5000)\n",
    "    \n",
    "LSTM(input)\n",
    "#printing loss after each epoch\n"
   ]
  },
  {
   "attachments": {},
   "cell_type": "markdown",
   "metadata": {},
   "source": [
    "Graph for LSTM"
   ]
  },
  {
   "cell_type": "code",
   "execution_count": 12,
   "metadata": {},
   "outputs": [
    {
     "data": {
      "text/plain": [
       "[<matplotlib.lines.Line2D at 0x7f3731db5f90>]"
      ]
     },
     "execution_count": 12,
     "metadata": {},
     "output_type": "execute_result"
    },
    {
     "data": {
      "image/png": "[encoded data removed]",
      "text/plain": [
       "<Figure size 640x480 with 1 Axes>"
      ]
     },
     "metadata": {},
     "output_type": "display_data"
    }
   ],
   "source": [
    "b_y_3=[baseline_loss for i in range(0,10)]\n",
    "plt.ylim(min(loss_lstm),0.19)\n",
    "plt.xlim(1,10)\n",
    "plt.xlabel(\"epochs\")\n",
    "plt.ylabel(\"loss\")\n",
    "plt.plot(epochs,loss_lstm,color='blue',label='lstm')\n",
    "plt.plot(epochs,b_y_3,color='red',label='baseline')"
   ]
  },
  {
   "cell_type": "code",
   "execution_count": null,
   "metadata": {},
   "outputs": [],
   "source": []
  }
 ],
 "metadata": {
  "kernelspec": {
   "display_name": "Python 3",
   "language": "python",
   "name": "python3"
  },
  "language_info": {
   "codemirror_mode": {
    "name": "ipython",
    "version": 3
   },
   "file_extension": ".py",
   "mimetype": "text/x-python",
   "name": "python",
   "nbconvert_exporter": "python",
   "pygments_lexer": "ipython3",
   "version": "3.10.6"
  },
  "orig_nbformat": 4
 },
 "nbformat": 4,
 "nbformat_minor": 2
}
